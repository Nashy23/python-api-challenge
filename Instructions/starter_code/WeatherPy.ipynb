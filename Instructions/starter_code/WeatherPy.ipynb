{
 "cells": [
  {
   "cell_type": "markdown",
   "metadata": {},
   "source": [
    "# WeatherPy\n",
    "----\n",
    "\n",
    "#### Note\n",
    "* Instructions have been included for each segment. You do not have to follow them exactly, but they are included to help you think through the steps."
   ]
  },
  {
   "cell_type": "code",
   "execution_count": 1,
   "metadata": {},
   "outputs": [
    {
     "name": "stdout",
     "output_type": "stream",
     "text": [
      "Requirement already satisfied: citipy in c:\\programdata\\anaconda3\\lib\\site-packages (0.0.5)\n",
      "Requirement already satisfied: kdtree>=0.12 in c:\\programdata\\anaconda3\\lib\\site-packages (from citipy) (0.16)\n",
      "Note: you may need to restart the kernel to use updated packages.\n"
     ]
    }
   ],
   "source": [
    "pip install citipy"
   ]
  },
  {
   "cell_type": "code",
   "execution_count": 2,
   "metadata": {
    "scrolled": true
   },
   "outputs": [],
   "source": [
    "# Dependencies and Setup\n",
    "import matplotlib.pyplot as plt\n",
    "import pandas as pd\n",
    "import numpy as np\n",
    "import requests\n",
    "import time\n",
    "from scipy.stats import linregress\n",
    "\n",
    "# Import API key\n",
    "from api_keys import weather_api_key\n",
    "\n",
    "# Incorporated citipy to determine city based on latitude and longitude\n",
    "from citipy import citipy\n",
    "\n",
    "# Output File (CSV)\n",
    "output_data_file = \"output_data/cities.csv\"\n",
    "\n",
    "# Range of latitudes and longitudes\n",
    "lat_range = (-90, 90)\n",
    "lng_range = (-180, 180)"
   ]
  },
  {
   "cell_type": "markdown",
   "metadata": {},
   "source": [
    "## Generate Cities List"
   ]
  },
  {
   "cell_type": "code",
   "execution_count": 3,
   "metadata": {},
   "outputs": [
    {
     "data": {
      "text/plain": [
       "612"
      ]
     },
     "execution_count": 3,
     "metadata": {},
     "output_type": "execute_result"
    }
   ],
   "source": [
    "# List for holding lat_lngs and cities\n",
    "lat_lngs = []\n",
    "cities = []\n",
    "\n",
    "# Create a set of random lat and lng combinations\n",
    "lats = np.random.uniform(lat_range[0], lat_range[1], size=1500)\n",
    "lngs = np.random.uniform(lng_range[0], lng_range[1], size=1500)\n",
    "lat_lngs = zip(lats, lngs)\n",
    "\n",
    "# Identify nearest city for each lat, lng combination\n",
    "for lat_lng in lat_lngs:\n",
    "    city = citipy.nearest_city(lat_lng[0], lat_lng[1]).city_name\n",
    "    \n",
    "    # If the city is unique, then add it to a our cities list\n",
    "    if city not in cities:\n",
    "        cities.append(city)\n",
    "\n",
    "# Print the city count to confirm sufficient count\n",
    "len(cities)"
   ]
  },
  {
   "cell_type": "markdown",
   "metadata": {},
   "source": [
    "### Perform API Calls\n",
    "* Perform a weather check on each city using a series of successive API calls.\n",
    "* Include a print log of each city as it'sbeing processed (with the city number and city name).\n"
   ]
  },
  {
   "cell_type": "code",
   "execution_count": 4,
   "metadata": {
    "scrolled": true
   },
   "outputs": [
    {
     "data": {
      "text/plain": [
       "'http://api.openweathermap.org/data/2.5/forecast?id=524901&APPID=b80b812b958635d6555e35bf4d1958ea'"
      ]
     },
     "execution_count": 4,
     "metadata": {},
     "output_type": "execute_result"
    }
   ],
   "source": [
    "url = \"http://api.openweathermap.org/data/2.5/forecast?id=524901&APPID=\"\n",
    "target_url = url + weather_api_key\n",
    "target_url"
   ]
  },
  {
   "cell_type": "code",
   "execution_count": 5,
   "metadata": {},
   "outputs": [
    {
     "name": "stdout",
     "output_type": "stream",
     "text": [
      "Processing record 1 of Set 1 | puerto ayora\n",
      "Processing record 2 of Set 1 | tezu\n",
      "Processing record 3 of Set 1 | prabumulih\n",
      "Processing record 4 of Set 1 | vaini\n",
      "Processing record 5 of Set 1 | punta arenas\n",
      "Processing record 6 of Set 1 | saint-philippe\n",
      "Processing record 7 of Set 1 | albany\n",
      "Processing record 8 of Set 1 | saint-augustin\n",
      "Processing record 9 of Set 1 | longyearbyen\n",
      "Processing record 10 of Set 1 | killam\n",
      "Processing record 11 of Set 1 | leningradskiy\n",
      "Processing record 12 of Set 1 | mar del plata\n",
      "Processing record 13 of Set 1 | hay river\n",
      "Processing record 14 of Set 1 | hermanus\n",
      "Processing record 15 of Set 1 | walvis bay\n",
      "Processing record 16 of Set 1 | georgetown\n",
      "Processing record 17 of Set 1 | mantua\n",
      "Processing record 18 of Set 1 | jamestown\n",
      "Processing record 19 of Set 1 | umea\n",
      "Processing record 20 of Set 1 | ostrovnoy\n",
      "Processing record 21 of Set 1 | pitimbu\n",
      "Processing record 22 of Set 1 | banjar\n",
      "Processing record 23 of Set 1 | mujiayingzi\n",
      "Processing record 24 of Set 1 | astoria\n",
      "Processing record 25 of Set 1 | marsa matruh\n",
      "Processing record 26 of Set 1 | tocopilla\n",
      "Processing record 27 of Set 1 | busselton\n",
      "Processing record 28 of Set 1 | bethel\n",
      "Processing record 29 of Set 1 | bethanien\n",
      "Record not found\n",
      "Processing record 30 of Set 1 | chapleau\n",
      "Processing record 31 of Set 1 | kruisfontein\n",
      "Processing record 32 of Set 1 | bredasdorp\n",
      "Processing record 33 of Set 1 | hermosillo\n",
      "Record not found\n",
      "Processing record 34 of Set 1 | hobart\n",
      "Processing record 35 of Set 1 | turayf\n",
      "Record not found\n",
      "Processing record 36 of Set 1 | port alfred\n",
      "Processing record 37 of Set 1 | port elizabeth\n",
      "Processing record 38 of Set 1 | fairbanks\n",
      "Processing record 39 of Set 1 | springs\n",
      "Processing record 40 of Set 1 | pisco\n",
      "Processing record 41 of Set 1 | sitka\n",
      "Processing record 42 of Set 1 | mwinilunga\n",
      "Processing record 43 of Set 1 | chimbote\n",
      "Processing record 44 of Set 1 | katangli\n",
      "Processing record 45 of Set 1 | bihoro\n",
      "Processing record 46 of Set 1 | butaritari\n",
      "Processing record 47 of Set 1 | yellowknife\n",
      "Processing record 48 of Set 1 | carnarvon\n",
      "Processing record 49 of Set 1 | mataura\n",
      "Processing record 50 of Set 1 | palauig\n",
      "Processing record 51 of Set 1 | rorvik\n",
      "Processing record 52 of Set 1 | atuona\n",
      "Processing record 53 of Set 1 | nanortalik\n",
      "Processing record 54 of Set 1 | high level\n",
      "Processing record 55 of Set 1 | arraial do cabo\n",
      "Processing record 56 of Set 1 | east london\n",
      "Processing record 57 of Set 1 | kromy\n",
      "Processing record 58 of Set 1 | cidreira\n",
      "Processing record 59 of Set 1 | finschhafen\n",
      "Processing record 60 of Set 1 | cherskiy\n",
      "Processing record 61 of Set 1 | kaitangata\n",
      "Processing record 62 of Set 1 | avarua\n",
      "Processing record 63 of Set 1 | talnakh\n",
      "Processing record 64 of Set 1 | rikitea\n",
      "Processing record 65 of Set 1 | cape town\n",
      "Processing record 66 of Set 1 | san quintin\n",
      "Processing record 67 of Set 1 | san luis\n",
      "Processing record 68 of Set 1 | kapaa\n",
      "Processing record 69 of Set 1 | novocheremshansk\n",
      "Processing record 70 of Set 1 | sorland\n",
      "Processing record 71 of Set 1 | hithadhoo\n",
      "Processing record 72 of Set 1 | faanui\n",
      "Record not found\n",
      "Processing record 73 of Set 1 | dikson\n",
      "Processing record 74 of Set 1 | alofi\n",
      "Processing record 75 of Set 1 | kahului\n",
      "Record not found\n",
      "Processing record 76 of Set 1 | upernavik\n",
      "Processing record 77 of Set 1 | shingu\n",
      "Processing record 78 of Set 1 | ribeira grande\n",
      "Processing record 79 of Set 1 | tura\n",
      "Processing record 80 of Set 1 | grand gaube\n",
      "Processing record 81 of Set 1 | maidens\n",
      "Processing record 82 of Set 1 | fuengirola\n",
      "Processing record 83 of Set 1 | ushuaia\n",
      "Processing record 84 of Set 1 | nagyrabe\n",
      "Processing record 85 of Set 1 | ayan\n",
      "Processing record 86 of Set 1 | keetmanshoop\n",
      "Processing record 87 of Set 1 | sao filipe\n",
      "Processing record 88 of Set 1 | megion\n",
      "Processing record 89 of Set 1 | weiden\n",
      "Processing record 90 of Set 1 | ancud\n",
      "Processing record 91 of Set 1 | abonnema\n",
      "Processing record 92 of Set 1 | caravelas\n",
      "Processing record 93 of Set 1 | yelizovo\n",
      "Processing record 94 of Set 1 | nikolskoye\n",
      "Processing record 95 of Set 1 | parkes\n",
      "Processing record 96 of Set 1 | kodiak\n",
      "Processing record 97 of Set 1 | srednekolymsk\n",
      "Record not found\n",
      "Processing record 98 of Set 1 | constitucion\n",
      "Processing record 99 of Set 1 | manavalakurichi\n",
      "Processing record 100 of Set 1 | tasiilaq\n",
      "Processing record 101 of Set 1 | husavik\n",
      "Processing record 102 of Set 1 | saint-jean-port-joli\n",
      "Processing record 103 of Set 1 | tuktoyaktuk\n",
      "Processing record 104 of Set 1 | bairiki\n",
      "Processing record 105 of Set 1 | beisfjord\n",
      "Processing record 106 of Set 1 | umm kaddadah\n",
      "Processing record 107 of Set 1 | hilo\n",
      "Processing record 108 of Set 1 | tilichiki\n",
      "Processing record 109 of Set 1 | port hardy\n",
      "Processing record 110 of Set 1 | khatanga\n",
      "Processing record 111 of Set 1 | okha\n",
      "Processing record 112 of Set 1 | itaituba\n",
      "Processing record 113 of Set 1 | narva-joesuu\n",
      "Processing record 114 of Set 1 | bluff\n",
      "Processing record 115 of Set 1 | qaanaaq\n",
      "Processing record 116 of Set 1 | sao joao do piaui\n",
      "Processing record 117 of Set 1 | lavrentiya\n",
      "Processing record 118 of Set 1 | boende\n",
      "Processing record 119 of Set 1 | bambous virieux\n",
      "Processing record 120 of Set 1 | harper\n",
      "Record not found\n",
      "Processing record 121 of Set 1 | iqaluit\n",
      "Processing record 122 of Set 1 | ciudad real\n",
      "Processing record 123 of Set 1 | barrow\n",
      "Processing record 124 of Set 1 | lorengau\n",
      "Record not found\n",
      "Processing record 125 of Set 1 | mahebourg\n",
      "Processing record 126 of Set 1 | chuy\n",
      "Processing record 127 of Set 1 | inhambane\n",
      "Processing record 128 of Set 1 | muros\n",
      "Processing record 129 of Set 1 | pacific grove\n",
      "Processing record 130 of Set 1 | miri\n",
      "Processing record 131 of Set 1 | aksarka\n",
      "Processing record 132 of Set 1 | teguise\n",
      "Processing record 133 of Set 1 | bodden town\n",
      "Processing record 134 of Set 1 | hecun\n",
      "Processing record 135 of Set 1 | cayenne\n",
      "Processing record 136 of Set 1 | olenegorsk\n",
      "Processing record 137 of Set 1 | sakaiminato\n",
      "Record not found\n",
      "Processing record 138 of Set 1 | cienfuegos\n",
      "Processing record 139 of Set 1 | kapit\n",
      "Processing record 140 of Set 1 | poum\n",
      "Processing record 141 of Set 1 | vardo\n",
      "Processing record 142 of Set 1 | havre-saint-pierre\n",
      "Processing record 143 of Set 1 | moscow\n",
      "Processing record 144 of Set 1 | beyneu\n",
      "Processing record 145 of Set 1 | thompson\n",
      "Processing record 146 of Set 1 | labuhan\n",
      "Processing record 147 of Set 1 | san cristobal\n",
      "Processing record 148 of Set 1 | college\n",
      "Processing record 149 of Set 1 | buchanan\n",
      "Processing record 150 of Set 1 | linxia\n",
      "Processing record 151 of Set 1 | reo\n",
      "Processing record 152 of Set 1 | guerrero negro\n",
      "Processing record 153 of Set 1 | mount pleasant\n",
      "Processing record 154 of Set 1 | wawa\n",
      "Processing record 155 of Set 1 | qaqortoq\n",
      "Processing record 156 of Set 1 | zella-mehlis\n",
      "Processing record 157 of Set 1 | verkhoyansk\n",
      "Processing record 158 of Set 1 | vila franca do campo\n",
      "Processing record 159 of Set 1 | pevek\n",
      "Processing record 160 of Set 1 | hambantota\n",
      "Processing record 161 of Set 1 | xinzhi\n",
      "Processing record 162 of Set 1 | saldanha\n",
      "Processing record 163 of Set 1 | luderitz\n",
      "Processing record 164 of Set 1 | kudahuvadhoo\n",
      "Record not found\n",
      "Processing record 165 of Set 1 | hovd\n",
      "Processing record 166 of Set 1 | yumen\n",
      "Processing record 167 of Set 1 | bougouni\n",
      "Processing record 168 of Set 1 | morro bay\n",
      "Processing record 169 of Set 1 | oriximina\n",
      "Processing record 170 of Set 1 | broken hill\n",
      "Processing record 171 of Set 1 | kobelyaky\n",
      "Processing record 172 of Set 1 | abnub\n",
      "Processing record 173 of Set 1 | florianopolis\n",
      "Processing record 174 of Set 1 | saskylakh\n",
      "Processing record 175 of Set 1 | cabedelo\n",
      "Processing record 176 of Set 1 | sobolevo\n",
      "Processing record 177 of Set 1 | korla\n",
      "Processing record 178 of Set 1 | geraldton\n",
      "Processing record 179 of Set 1 | victoria\n",
      "Processing record 180 of Set 1 | margate\n",
      "Processing record 181 of Set 1 | zhigansk\n",
      "Processing record 182 of Set 1 | oum hadjer\n",
      "Record not found\n",
      "Processing record 183 of Set 1 | santa marta\n",
      "Processing record 184 of Set 1 | moron\n",
      "Processing record 185 of Set 1 | maniitsoq\n",
      "Record not found\n",
      "Processing record 186 of Set 1 | znamenskoye\n",
      "Processing record 187 of Set 1 | beloha\n",
      "Processing record 188 of Set 1 | tiarei\n",
      "Processing record 189 of Set 1 | kenai\n",
      "Processing record 190 of Set 1 | batagay\n",
      "Processing record 191 of Set 1 | port augusta\n"
     ]
    },
    {
     "name": "stdout",
     "output_type": "stream",
     "text": [
      "Processing record 192 of Set 1 | alta floresta\n",
      "Record not found\n",
      "Processing record 193 of Set 1 | vila velha\n",
      "Processing record 194 of Set 1 | tena\n",
      "Processing record 195 of Set 1 | conceicao do araguaia\n",
      "Processing record 196 of Set 1 | san patricio\n",
      "Processing record 197 of Set 1 | ouallam\n",
      "Processing record 198 of Set 1 | caborca\n",
      "Processing record 199 of Set 1 | goragorskiy\n",
      "Processing record 200 of Set 1 | tirunelveli\n",
      "Processing record 201 of Set 1 | honiara\n",
      "Processing record 202 of Set 1 | sisimiut\n",
      "Processing record 203 of Set 1 | lanzhou\n",
      "Processing record 204 of Set 1 | jiazi\n",
      "Record not found\n",
      "Record not found\n",
      "Processing record 205 of Set 1 | vao\n",
      "Processing record 206 of Set 1 | waipawa\n",
      "Processing record 207 of Set 1 | tete\n",
      "Processing record 208 of Set 1 | kiama\n",
      "Processing record 209 of Set 1 | fortuna\n",
      "Processing record 210 of Set 1 | xiazhen\n",
      "Processing record 211 of Set 1 | ayagoz\n",
      "Processing record 212 of Set 1 | pelym\n",
      "Processing record 213 of Set 1 | beringovskiy\n",
      "Processing record 214 of Set 1 | mantes-la-jolie\n",
      "Processing record 215 of Set 1 | conde\n",
      "Processing record 216 of Set 1 | kavieng\n",
      "Processing record 217 of Set 1 | castro\n",
      "Processing record 218 of Set 1 | monte alegre\n",
      "Processing record 219 of Set 1 | palmer\n",
      "Processing record 220 of Set 1 | bathsheba\n",
      "Processing record 221 of Set 1 | salalah\n",
      "Processing record 222 of Set 1 | lebu\n",
      "Processing record 223 of Set 1 | nador\n",
      "Processing record 224 of Set 1 | adrar\n",
      "Processing record 225 of Set 1 | praia da vitoria\n",
      "Processing record 226 of Set 1 | isangel\n",
      "Processing record 227 of Set 1 | alcudia\n",
      "Processing record 228 of Set 1 | santona\n",
      "Processing record 229 of Set 1 | inuvik\n",
      "Processing record 230 of Set 1 | marabba\n",
      "Processing record 231 of Set 1 | ilulissat\n",
      "Record not found\n",
      "Processing record 232 of Set 1 | sinnamary\n",
      "Processing record 233 of Set 1 | ende\n",
      "Processing record 234 of Set 1 | narsaq\n",
      "Processing record 235 of Set 1 | cabo san lucas\n",
      "Processing record 236 of Set 1 | pierre\n",
      "Processing record 237 of Set 1 | ozark\n",
      "Processing record 238 of Set 1 | baculin\n",
      "Processing record 239 of Set 1 | new norfolk\n",
      "Processing record 240 of Set 1 | langsa\n",
      "Processing record 241 of Set 1 | akdagmadeni\n",
      "Processing record 242 of Set 1 | naze\n",
      "Processing record 243 of Set 1 | letlhakane\n",
      "Processing record 244 of Set 1 | biak\n",
      "Processing record 245 of Set 1 | yandyki\n",
      "Processing record 246 of Set 1 | el alto\n",
      "Processing record 247 of Set 1 | chapais\n",
      "Processing record 248 of Set 1 | lompoc\n",
      "Processing record 249 of Set 1 | prince rupert\n",
      "Processing record 250 of Set 1 | kununurra\n",
      "Processing record 251 of Set 1 | chicama\n",
      "Processing record 252 of Set 1 | norden\n",
      "Processing record 253 of Set 1 | kamaishi\n",
      "Processing record 254 of Set 1 | klaksvik\n",
      "Processing record 255 of Set 1 | touros\n",
      "Processing record 256 of Set 1 | coihaique\n",
      "Processing record 257 of Set 1 | am timan\n",
      "Processing record 258 of Set 1 | provideniya\n",
      "Processing record 259 of Set 1 | tiksi\n",
      "Processing record 260 of Set 1 | celestun\n",
      "Processing record 261 of Set 1 | las lomas\n",
      "Processing record 262 of Set 1 | jijiang\n",
      "Processing record 263 of Set 1 | itarema\n",
      "Processing record 264 of Set 1 | las vegas\n",
      "Processing record 265 of Set 1 | marawi\n",
      "Record not found\n",
      "Processing record 266 of Set 1 | urumqi\n",
      "Processing record 267 of Set 1 | teguldet\n",
      "Processing record 268 of Set 1 | ojinaga\n",
      "Processing record 269 of Set 1 | tonantins\n",
      "Processing record 270 of Set 1 | torrington\n",
      "Processing record 271 of Set 1 | tubuala\n",
      "Processing record 272 of Set 1 | porto novo\n",
      "Processing record 273 of Set 1 | saint anthony\n",
      "Processing record 274 of Set 1 | arman\n",
      "Processing record 275 of Set 1 | pinega\n",
      "Processing record 276 of Set 1 | knokke-heist\n",
      "Processing record 277 of Set 1 | nouakchott\n",
      "Processing record 278 of Set 1 | baghmara\n",
      "Processing record 279 of Set 1 | poya\n",
      "Processing record 280 of Set 1 | great yarmouth\n",
      "Record not found\n",
      "Processing record 281 of Set 1 | la plata\n",
      "Processing record 282 of Set 1 | sao bernardo\n",
      "Processing record 283 of Set 1 | tavricheskoye\n",
      "Processing record 284 of Set 1 | gat\n",
      "Processing record 285 of Set 1 | edd\n",
      "Record not found\n",
      "Processing record 286 of Set 1 | nadvoitsy\n",
      "Processing record 287 of Set 1 | arauca\n",
      "Processing record 288 of Set 1 | gamba\n",
      "Processing record 289 of Set 1 | nova ushytsya\n",
      "Processing record 290 of Set 1 | saint george\n",
      "Processing record 291 of Set 1 | vestmannaeyjar\n",
      "Processing record 292 of Set 1 | hongjiang\n",
      "Record not found\n",
      "Processing record 293 of Set 1 | roald\n",
      "Processing record 294 of Set 1 | chokurdakh\n",
      "Processing record 295 of Set 1 | emba\n",
      "Processing record 296 of Set 1 | sahiwal\n",
      "Processing record 297 of Set 1 | saint-leu\n",
      "Processing record 298 of Set 1 | asau\n",
      "Processing record 299 of Set 1 | san policarpo\n",
      "Processing record 300 of Set 1 | fuling\n",
      "Processing record 301 of Set 1 | sattahip\n",
      "Processing record 302 of Set 1 | clyde river\n",
      "Processing record 303 of Set 1 | kurilsk\n",
      "Processing record 304 of Set 1 | price\n",
      "Processing record 305 of Set 1 | merauke\n",
      "Processing record 306 of Set 1 | taree\n",
      "Processing record 307 of Set 1 | kerema\n",
      "Processing record 308 of Set 1 | maroantsetra\n",
      "Record not found\n",
      "Processing record 309 of Set 1 | camacha\n",
      "Processing record 310 of Set 1 | zhangye\n",
      "Processing record 311 of Set 1 | hamilton\n",
      "Processing record 312 of Set 1 | nangomba\n",
      "Processing record 313 of Set 1 | seoul\n",
      "Processing record 314 of Set 1 | ixtapa\n",
      "Processing record 315 of Set 1 | barsovo\n",
      "Processing record 316 of Set 1 | coquimbo\n",
      "Processing record 317 of Set 1 | moose factory\n",
      "Processing record 318 of Set 1 | auki\n",
      "Processing record 319 of Set 1 | bandarbeyla\n",
      "Processing record 320 of Set 1 | mezen\n",
      "Processing record 321 of Set 1 | ruteng\n",
      "Record not found\n",
      "Record not found\n",
      "Processing record 322 of Set 1 | dossor\n",
      "Processing record 323 of Set 1 | verkhnevilyuysk\n",
      "Processing record 324 of Set 1 | murillo\n",
      "Processing record 325 of Set 1 | clarence town\n",
      "Processing record 326 of Set 1 | warwick\n",
      "Processing record 327 of Set 1 | ponta do sol\n",
      "Processing record 328 of Set 1 | tartagal\n",
      "Processing record 329 of Set 1 | qiqihar\n",
      "Processing record 330 of Set 1 | karratha\n",
      "Processing record 331 of Set 1 | villena\n",
      "Record not found\n",
      "Processing record 332 of Set 1 | ahuimanu\n",
      "Processing record 333 of Set 1 | morondava\n",
      "Processing record 334 of Set 1 | solok\n",
      "Processing record 335 of Set 1 | makakilo city\n",
      "Processing record 336 of Set 1 | sao miguel do araguaia\n",
      "Processing record 337 of Set 1 | bolo\n",
      "Processing record 338 of Set 1 | katsuura\n",
      "Processing record 339 of Set 1 | taperoa\n",
      "Processing record 340 of Set 1 | lasa\n",
      "Processing record 341 of Set 1 | maragogi\n",
      "Processing record 342 of Set 1 | mombetsu\n",
      "Processing record 343 of Set 1 | gashua\n",
      "Processing record 344 of Set 1 | okhotsk\n",
      "Record not found\n",
      "Processing record 345 of Set 1 | severo-kurilsk\n",
      "Processing record 346 of Set 1 | kavaratti\n",
      "Processing record 347 of Set 1 | necochea\n",
      "Processing record 348 of Set 1 | shieli\n",
      "Processing record 349 of Set 1 | tuatapere\n",
      "Processing record 350 of Set 1 | krasnoselkup\n",
      "Processing record 351 of Set 1 | yeppoon\n",
      "Processing record 352 of Set 1 | norman wells\n",
      "Record not found\n",
      "Processing record 353 of Set 1 | santiago del estero\n",
      "Processing record 354 of Set 1 | la ronge\n",
      "Processing record 355 of Set 1 | lata\n",
      "Processing record 356 of Set 1 | ishigaki\n",
      "Processing record 357 of Set 1 | boa vista\n",
      "Processing record 358 of Set 1 | alberdi\n",
      "Processing record 359 of Set 1 | bambanglipuro\n",
      "Processing record 360 of Set 1 | maceio\n",
      "Processing record 361 of Set 1 | nchelenge\n",
      "Processing record 362 of Set 1 | bermeo\n",
      "Processing record 363 of Set 1 | wahiawa\n",
      "Processing record 364 of Set 1 | namatanai\n",
      "Processing record 365 of Set 1 | ondo\n",
      "Processing record 366 of Set 1 | coahuayana\n",
      "Processing record 367 of Set 1 | general pico\n",
      "Processing record 368 of Set 1 | salisbury\n",
      "Processing record 369 of Set 1 | muzhi\n",
      "Record not found\n",
      "Processing record 370 of Set 1 | oceanside\n",
      "Processing record 371 of Set 1 | ushtobe\n",
      "Processing record 372 of Set 1 | richards bay\n",
      "Processing record 373 of Set 1 | torres\n",
      "Processing record 374 of Set 1 | ahipara\n",
      "Processing record 375 of Set 1 | izumo\n",
      "Processing record 376 of Set 1 | shilka\n",
      "Processing record 377 of Set 1 | grandview\n",
      "Processing record 378 of Set 1 | riyadh\n",
      "Processing record 379 of Set 1 | duldurga\n",
      "Processing record 380 of Set 1 | havelock\n"
     ]
    },
    {
     "name": "stdout",
     "output_type": "stream",
     "text": [
      "Processing record 381 of Set 1 | gazojak\n",
      "Processing record 382 of Set 1 | aborlan\n",
      "Processing record 383 of Set 1 | torbat-e jam\n",
      "Processing record 384 of Set 1 | boqueirao\n",
      "Processing record 385 of Set 1 | ereymentau\n",
      "Processing record 386 of Set 1 | zaza del medio\n",
      "Processing record 387 of Set 1 | mocuba\n",
      "Processing record 388 of Set 1 | raudeberg\n",
      "Processing record 389 of Set 1 | taksimo\n",
      "Processing record 390 of Set 1 | japura\n",
      "Processing record 391 of Set 1 | kilindoni\n",
      "Processing record 392 of Set 1 | rodez\n",
      "Processing record 393 of Set 1 | bilibino\n",
      "Processing record 394 of Set 1 | ilo\n",
      "Processing record 395 of Set 1 | senador jose porfirio\n",
      "Processing record 396 of Set 1 | vertientes\n",
      "Processing record 397 of Set 1 | solnechnyy\n",
      "Processing record 398 of Set 1 | altay\n",
      "Processing record 399 of Set 1 | mahibadhoo\n",
      "Processing record 400 of Set 1 | marrakesh\n",
      "Processing record 401 of Set 1 | kieta\n",
      "Processing record 402 of Set 1 | sargur\n",
      "Processing record 403 of Set 1 | pastavy\n",
      "Processing record 404 of Set 1 | sosnovo-ozerskoye\n",
      "Processing record 405 of Set 1 | yenagoa\n",
      "Processing record 406 of Set 1 | talcahuano\n",
      "Processing record 407 of Set 1 | buta\n",
      "Processing record 408 of Set 1 | sao joao da barra\n",
      "Processing record 409 of Set 1 | namibe\n",
      "Processing record 410 of Set 1 | kirakira\n",
      "Record not found\n",
      "Processing record 411 of Set 1 | cockburn town\n",
      "Processing record 412 of Set 1 | fengrun\n",
      "Record not found\n",
      "Processing record 413 of Set 1 | deputatskiy\n",
      "Processing record 414 of Set 1 | kawhia\n",
      "Processing record 415 of Set 1 | charlestown\n",
      "Processing record 416 of Set 1 | mbekenyera\n",
      "Processing record 417 of Set 1 | presidencia roque saenz pena\n",
      "Processing record 418 of Set 1 | oakdale\n",
      "Record not found\n",
      "Processing record 419 of Set 1 | praya\n",
      "Processing record 420 of Set 1 | jumla\n",
      "Processing record 421 of Set 1 | taoudenni\n",
      "Processing record 422 of Set 1 | kalabo\n",
      "Processing record 423 of Set 1 | port macquarie\n",
      "Processing record 424 of Set 1 | pocatello\n",
      "Processing record 425 of Set 1 | krasnyy chikoy\n",
      "Record not found\n",
      "Processing record 426 of Set 1 | dhidhdhoo\n",
      "Processing record 427 of Set 1 | gimli\n",
      "Processing record 428 of Set 1 | puerto carreno\n",
      "Processing record 429 of Set 1 | torbay\n",
      "Record not found\n",
      "Processing record 430 of Set 1 | corleone\n",
      "Processing record 431 of Set 1 | abeche\n",
      "Processing record 432 of Set 1 | pringsewu\n",
      "Processing record 433 of Set 1 | meridian\n",
      "Processing record 434 of Set 1 | goderich\n",
      "Record not found\n",
      "Processing record 435 of Set 1 | puerto lopez\n",
      "Processing record 436 of Set 1 | ibipeba\n",
      "Processing record 437 of Set 1 | port blair\n",
      "Processing record 438 of Set 1 | sangar\n",
      "Processing record 439 of Set 1 | bellmead\n",
      "Processing record 440 of Set 1 | businga\n",
      "Processing record 441 of Set 1 | port keats\n",
      "Processing record 442 of Set 1 | burnie\n",
      "Processing record 443 of Set 1 | kaseda\n",
      "Processing record 444 of Set 1 | guaruja\n",
      "Processing record 445 of Set 1 | bilma\n",
      "Processing record 446 of Set 1 | srandakan\n",
      "Record not found\n",
      "Processing record 447 of Set 1 | nizwa\n",
      "Processing record 448 of Set 1 | grindavik\n",
      "Processing record 449 of Set 1 | ouargaye\n",
      "Processing record 450 of Set 1 | cloquet\n",
      "Processing record 451 of Set 1 | ouro preto do oeste\n",
      "Processing record 452 of Set 1 | leninskoye\n",
      "Processing record 453 of Set 1 | motygino\n",
      "Record not found\n",
      "Processing record 454 of Set 1 | tautira\n",
      "Processing record 455 of Set 1 | sioux lookout\n",
      "Processing record 456 of Set 1 | te anau\n",
      "Processing record 457 of Set 1 | brownwood\n",
      "Processing record 458 of Set 1 | tshikapa\n",
      "Processing record 459 of Set 1 | khudumelapye\n",
      "Processing record 460 of Set 1 | batemans bay\n",
      "Processing record 461 of Set 1 | fort nelson\n",
      "Processing record 462 of Set 1 | buala\n",
      "Processing record 463 of Set 1 | fairview\n",
      "Processing record 464 of Set 1 | lianzhou\n",
      "Processing record 465 of Set 1 | noumea\n",
      "Processing record 466 of Set 1 | vangaindrano\n",
      "Processing record 467 of Set 1 | esperance\n",
      "Processing record 468 of Set 1 | niagara falls\n",
      "Processing record 469 of Set 1 | brejinho\n",
      "Record not found\n",
      "Processing record 470 of Set 1 | zuwarah\n",
      "Processing record 471 of Set 1 | flin flon\n",
      "Processing record 472 of Set 1 | bastia\n",
      "Record not found\n",
      "Processing record 473 of Set 1 | urucui\n",
      "Processing record 474 of Set 1 | watertown\n",
      "Processing record 475 of Set 1 | codrington\n",
      "Processing record 476 of Set 1 | ossora\n",
      "Processing record 477 of Set 1 | pa sang\n",
      "Processing record 478 of Set 1 | inta\n",
      "Processing record 479 of Set 1 | lishu\n",
      "Processing record 480 of Set 1 | orel-izumrud\n",
      "Processing record 481 of Set 1 | saint-pierre\n",
      "Processing record 482 of Set 1 | atar\n",
      "Processing record 483 of Set 1 | staraya russa\n",
      "Processing record 484 of Set 1 | kupang\n",
      "Processing record 485 of Set 1 | laredo\n",
      "Processing record 486 of Set 1 | dori\n",
      "Processing record 487 of Set 1 | shellbrook\n",
      "Processing record 488 of Set 1 | viedma\n",
      "Processing record 489 of Set 1 | souillac\n",
      "Processing record 490 of Set 1 | sovetskiy\n",
      "Record not found\n",
      "Processing record 491 of Set 1 | poronaysk\n",
      "Processing record 492 of Set 1 | kristiansund\n",
      "Processing record 493 of Set 1 | dangriga\n",
      "Processing record 494 of Set 1 | abu samrah\n",
      "Processing record 495 of Set 1 | la asuncion\n",
      "Processing record 496 of Set 1 | ayame\n",
      "Processing record 497 of Set 1 | romny\n",
      "Record not found\n",
      "Processing record 498 of Set 1 | manado\n",
      "Processing record 499 of Set 1 | westport\n",
      "Processing record 500 of Set 1 | buluang\n",
      "Processing record 501 of Set 1 | north bend\n",
      "Processing record 502 of Set 1 | sur\n",
      "Processing record 503 of Set 1 | lagoa\n",
      "Processing record 504 of Set 1 | baghdad\n",
      "Processing record 505 of Set 1 | springdale\n",
      "Processing record 506 of Set 1 | rehoboth\n",
      "Processing record 507 of Set 1 | oksfjord\n",
      "Processing record 508 of Set 1 | alta gracia\n",
      "Processing record 509 of Set 1 | marfino\n",
      "Processing record 510 of Set 1 | kholmy\n",
      "Processing record 511 of Set 1 | pacifica\n",
      "Processing record 512 of Set 1 | ateli\n",
      "Processing record 513 of Set 1 | luanda\n",
      "Processing record 514 of Set 1 | carutapera\n",
      "Processing record 515 of Set 1 | san rafael\n",
      "Processing record 516 of Set 1 | los llanos de aridane\n",
      "Processing record 517 of Set 1 | constantine\n",
      "Processing record 518 of Set 1 | mitsamiouli\n",
      "Processing record 519 of Set 1 | puerto baquerizo moreno\n",
      "Processing record 520 of Set 1 | lawton\n",
      "Processing record 521 of Set 1 | selishche\n",
      "Processing record 522 of Set 1 | bosobolo\n",
      "Processing record 523 of Set 1 | olga\n",
      "Record not found\n",
      "Processing record 524 of Set 1 | yulara\n",
      "Processing record 525 of Set 1 | makushino\n",
      "Processing record 526 of Set 1 | faya\n",
      "Processing record 527 of Set 1 | portree\n",
      "Processing record 528 of Set 1 | mount gambier\n",
      "Processing record 529 of Set 1 | mandalay\n",
      "Processing record 530 of Set 1 | aklavik\n",
      "Record not found\n",
      "Processing record 531 of Set 1 | opuwo\n",
      "Processing record 532 of Set 1 | gorontalo\n",
      "Processing record 533 of Set 1 | itarantim\n",
      "Processing record 534 of Set 1 | sao jose da tapera\n",
      "Processing record 535 of Set 1 | aripuana\n",
      "Processing record 536 of Set 1 | mineiros\n",
      "Processing record 537 of Set 1 | dali\n",
      "Processing record 538 of Set 1 | rochegda\n",
      "Processing record 539 of Set 1 | salamiyah\n",
      "Processing record 540 of Set 1 | yaita\n",
      "Processing record 541 of Set 1 | terrace\n",
      "Processing record 542 of Set 1 | zilair\n",
      "Processing record 543 of Set 1 | tazovskiy\n",
      "Processing record 544 of Set 1 | lincoln\n",
      "Processing record 545 of Set 1 | kampot\n",
      "Processing record 546 of Set 1 | neuquen\n",
      "Processing record 547 of Set 1 | bengkulu\n",
      "Processing record 548 of Set 1 | port lincoln\n",
      "Processing record 549 of Set 1 | sol-iletsk\n",
      "Processing record 550 of Set 1 | nantucket\n",
      "Processing record 551 of Set 1 | nefteyugansk\n",
      "Processing record 552 of Set 1 | anamur\n",
      "Processing record 553 of Set 1 | lumeje\n",
      "Record not found\n",
      "Processing record 554 of Set 1 | acajutla\n",
      "Processing record 555 of Set 1 | kathmandu\n",
      "Processing record 556 of Set 1 | kidal\n",
      "Processing record 557 of Set 1 | emerald\n",
      "Processing record 558 of Set 1 | huarmey\n",
      "Record not found\n",
      "Processing record 559 of Set 1 | atambua\n",
      "Processing record 560 of Set 1 | haines junction\n",
      "Processing record 561 of Set 1 | nome\n",
      "Processing record 562 of Set 1 | xai-xai\n",
      "Processing record 563 of Set 1 | pacocha\n",
      "Processing record 564 of Set 1 | luwingu\n",
      "Processing record 565 of Set 1 | mongoumba\n",
      "Processing record 566 of Set 1 | suntar\n",
      "Processing record 567 of Set 1 | conceicao da barra\n"
     ]
    },
    {
     "name": "stdout",
     "output_type": "stream",
     "text": [
      "Processing record 568 of Set 1 | chatrapur\n",
      "Processing record 569 of Set 1 | ambulu\n"
     ]
    }
   ],
   "source": [
    "# set up lists to have info from response\n",
    "cityname = []\n",
    "cloudiness = []\n",
    "country = []\n",
    "date = []\n",
    "humidity = []\n",
    "lat = []\n",
    "lng = []\n",
    "max_temp = []\n",
    "wind_speed = []\n",
    "count = 0\n",
    "\n",
    "for city in cities:\n",
    "    weather_response = requests.get(target_url + \"&q=\" + city + \"&units=Imperial\")\n",
    "    weather_json = weather_response.json()\n",
    "    try:\n",
    "        cityname.append(weather_json['city']['name'])\n",
    "        cloudiness.append(weather_json['list'][0]['clouds']['all'])\n",
    "        country.append(weather_json['city']['country'])\n",
    "        date.append(weather_json['list'][0]['dt'])\n",
    "        humidity.append(weather_json['list'][0]['main']['humidity'])\n",
    "        lat.append(weather_json['city']['coord']['lat'])\n",
    "        lng.append(weather_json['city']['coord']['lon'])\n",
    "        max_temp.append(weather_json['list'][0]['main']['temp_max'])\n",
    "        wind_speed.append(weather_json['list'][0]['wind']['speed'])\n",
    "        count = count + 1\n",
    "        print(f\"Processing record {count} of Set 1 | {city}\")\n",
    "    except:\n",
    "        print(\"Record not found\") \n",
    "        pass\n"
   ]
  },
  {
   "cell_type": "markdown",
   "metadata": {},
   "source": [
    "### Convert Raw Data to DataFrame\n",
    "* Export the city data into a .csv.\n",
    "* Display the DataFrame"
   ]
  },
  {
   "cell_type": "code",
   "execution_count": 6,
   "metadata": {},
   "outputs": [
    {
     "data": {
      "text/html": [
       "<div>\n",
       "<style scoped>\n",
       "    .dataframe tbody tr th:only-of-type {\n",
       "        vertical-align: middle;\n",
       "    }\n",
       "\n",
       "    .dataframe tbody tr th {\n",
       "        vertical-align: top;\n",
       "    }\n",
       "\n",
       "    .dataframe thead th {\n",
       "        text-align: right;\n",
       "    }\n",
       "</style>\n",
       "<table border=\"1\" class=\"dataframe\">\n",
       "  <thead>\n",
       "    <tr style=\"text-align: right;\">\n",
       "      <th></th>\n",
       "      <th>City</th>\n",
       "      <th>Latitude</th>\n",
       "      <th>Longitude</th>\n",
       "      <th>Max Temp</th>\n",
       "      <th>Humidity</th>\n",
       "      <th>Cloudiness</th>\n",
       "      <th>Wind Speed</th>\n",
       "      <th>Country</th>\n",
       "      <th>Date</th>\n",
       "    </tr>\n",
       "  </thead>\n",
       "  <tbody>\n",
       "    <tr>\n",
       "      <th>0</th>\n",
       "      <td>Puerto Ayora</td>\n",
       "      <td>-0.7393</td>\n",
       "      <td>-90.3518</td>\n",
       "      <td>76.96</td>\n",
       "      <td>76</td>\n",
       "      <td>25</td>\n",
       "      <td>10.76</td>\n",
       "      <td>EC</td>\n",
       "      <td>1650823200</td>\n",
       "    </tr>\n",
       "    <tr>\n",
       "      <th>1</th>\n",
       "      <td>Tezu</td>\n",
       "      <td>27.9167</td>\n",
       "      <td>96.1667</td>\n",
       "      <td>68.00</td>\n",
       "      <td>79</td>\n",
       "      <td>87</td>\n",
       "      <td>4.72</td>\n",
       "      <td>IN</td>\n",
       "      <td>1650823200</td>\n",
       "    </tr>\n",
       "    <tr>\n",
       "      <th>2</th>\n",
       "      <td>Prabumulih</td>\n",
       "      <td>-3.4500</td>\n",
       "      <td>104.2500</td>\n",
       "      <td>75.90</td>\n",
       "      <td>93</td>\n",
       "      <td>100</td>\n",
       "      <td>2.26</td>\n",
       "      <td>ID</td>\n",
       "      <td>1650823200</td>\n",
       "    </tr>\n",
       "    <tr>\n",
       "      <th>3</th>\n",
       "      <td>Vaini</td>\n",
       "      <td>-21.2000</td>\n",
       "      <td>-175.2000</td>\n",
       "      <td>77.97</td>\n",
       "      <td>94</td>\n",
       "      <td>75</td>\n",
       "      <td>3.62</td>\n",
       "      <td>TO</td>\n",
       "      <td>1650823200</td>\n",
       "    </tr>\n",
       "    <tr>\n",
       "      <th>4</th>\n",
       "      <td>Punta Arenas</td>\n",
       "      <td>-53.1500</td>\n",
       "      <td>-70.9167</td>\n",
       "      <td>44.71</td>\n",
       "      <td>81</td>\n",
       "      <td>75</td>\n",
       "      <td>5.97</td>\n",
       "      <td>CL</td>\n",
       "      <td>1650823200</td>\n",
       "    </tr>\n",
       "  </tbody>\n",
       "</table>\n",
       "</div>"
      ],
      "text/plain": [
       "           City  Latitude  Longitude  Max Temp  Humidity  Cloudiness  \\\n",
       "0  Puerto Ayora   -0.7393   -90.3518     76.96        76          25   \n",
       "1          Tezu   27.9167    96.1667     68.00        79          87   \n",
       "2    Prabumulih   -3.4500   104.2500     75.90        93         100   \n",
       "3         Vaini  -21.2000  -175.2000     77.97        94          75   \n",
       "4  Punta Arenas  -53.1500   -70.9167     44.71        81          75   \n",
       "\n",
       "   Wind Speed Country        Date  \n",
       "0       10.76      EC  1650823200  \n",
       "1        4.72      IN  1650823200  \n",
       "2        2.26      ID  1650823200  \n",
       "3        3.62      TO  1650823200  \n",
       "4        5.97      CL  1650823200  "
      ]
     },
     "execution_count": 6,
     "metadata": {},
     "output_type": "execute_result"
    }
   ],
   "source": [
    "# Convert JSONs to Pandas DataFrame\n",
    "\n",
    "weather_dict = {\"City\": cityname,\"Latitude\": lat, \"Longitude\":lng,\n",
    "                \"Max Temp\":max_temp,\"Humidity\":humidity,\"Cloudiness\":cloudiness,\n",
    "                \"Wind Speed\":wind_speed,\"Country\":country, \"Date\":date}\n",
    "weather_data = pd.DataFrame(weather_dict)\n",
    "weather_data.head()"
   ]
  },
  {
   "cell_type": "code",
   "execution_count": 7,
   "metadata": {},
   "outputs": [
    {
     "data": {
      "text/plain": [
       "569"
      ]
     },
     "execution_count": 7,
     "metadata": {},
     "output_type": "execute_result"
    }
   ],
   "source": [
    "# Export into a csv\n",
    "weather_data.to_csv(r'my_weather_data.csv')\n",
    "# Show Record Count\n",
    "countforme = len(weather_data)\n",
    "countforme"
   ]
  },
  {
   "cell_type": "code",
   "execution_count": 8,
   "metadata": {},
   "outputs": [
    {
     "data": {
      "text/html": [
       "<div>\n",
       "<style scoped>\n",
       "    .dataframe tbody tr th:only-of-type {\n",
       "        vertical-align: middle;\n",
       "    }\n",
       "\n",
       "    .dataframe tbody tr th {\n",
       "        vertical-align: top;\n",
       "    }\n",
       "\n",
       "    .dataframe thead th {\n",
       "        text-align: right;\n",
       "    }\n",
       "</style>\n",
       "<table border=\"1\" class=\"dataframe\">\n",
       "  <thead>\n",
       "    <tr style=\"text-align: right;\">\n",
       "      <th></th>\n",
       "      <th>City</th>\n",
       "      <th>Latitude</th>\n",
       "      <th>Longitude</th>\n",
       "      <th>Max Temp</th>\n",
       "      <th>Humidity</th>\n",
       "      <th>Cloudiness</th>\n",
       "      <th>Wind Speed</th>\n",
       "      <th>Country</th>\n",
       "      <th>Date</th>\n",
       "    </tr>\n",
       "  </thead>\n",
       "  <tbody>\n",
       "    <tr>\n",
       "      <th>0</th>\n",
       "      <td>Puerto Ayora</td>\n",
       "      <td>-0.7393</td>\n",
       "      <td>-90.3518</td>\n",
       "      <td>76.96</td>\n",
       "      <td>76</td>\n",
       "      <td>25</td>\n",
       "      <td>10.76</td>\n",
       "      <td>EC</td>\n",
       "      <td>1650823200</td>\n",
       "    </tr>\n",
       "    <tr>\n",
       "      <th>1</th>\n",
       "      <td>Tezu</td>\n",
       "      <td>27.9167</td>\n",
       "      <td>96.1667</td>\n",
       "      <td>68.00</td>\n",
       "      <td>79</td>\n",
       "      <td>87</td>\n",
       "      <td>4.72</td>\n",
       "      <td>IN</td>\n",
       "      <td>1650823200</td>\n",
       "    </tr>\n",
       "    <tr>\n",
       "      <th>2</th>\n",
       "      <td>Prabumulih</td>\n",
       "      <td>-3.4500</td>\n",
       "      <td>104.2500</td>\n",
       "      <td>75.90</td>\n",
       "      <td>93</td>\n",
       "      <td>100</td>\n",
       "      <td>2.26</td>\n",
       "      <td>ID</td>\n",
       "      <td>1650823200</td>\n",
       "    </tr>\n",
       "    <tr>\n",
       "      <th>3</th>\n",
       "      <td>Vaini</td>\n",
       "      <td>-21.2000</td>\n",
       "      <td>-175.2000</td>\n",
       "      <td>77.97</td>\n",
       "      <td>94</td>\n",
       "      <td>75</td>\n",
       "      <td>3.62</td>\n",
       "      <td>TO</td>\n",
       "      <td>1650823200</td>\n",
       "    </tr>\n",
       "    <tr>\n",
       "      <th>4</th>\n",
       "      <td>Punta Arenas</td>\n",
       "      <td>-53.1500</td>\n",
       "      <td>-70.9167</td>\n",
       "      <td>44.71</td>\n",
       "      <td>81</td>\n",
       "      <td>75</td>\n",
       "      <td>5.97</td>\n",
       "      <td>CL</td>\n",
       "      <td>1650823200</td>\n",
       "    </tr>\n",
       "  </tbody>\n",
       "</table>\n",
       "</div>"
      ],
      "text/plain": [
       "           City  Latitude  Longitude  Max Temp  Humidity  Cloudiness  \\\n",
       "0  Puerto Ayora   -0.7393   -90.3518     76.96        76          25   \n",
       "1          Tezu   27.9167    96.1667     68.00        79          87   \n",
       "2    Prabumulih   -3.4500   104.2500     75.90        93         100   \n",
       "3         Vaini  -21.2000  -175.2000     77.97        94          75   \n",
       "4  Punta Arenas  -53.1500   -70.9167     44.71        81          75   \n",
       "\n",
       "   Wind Speed Country        Date  \n",
       "0       10.76      EC  1650823200  \n",
       "1        4.72      IN  1650823200  \n",
       "2        2.26      ID  1650823200  \n",
       "3        3.62      TO  1650823200  \n",
       "4        5.97      CL  1650823200  "
      ]
     },
     "execution_count": 8,
     "metadata": {},
     "output_type": "execute_result"
    }
   ],
   "source": [
    "# Display the City Data Frame\n",
    "weather_data.head()"
   ]
  },
  {
   "cell_type": "markdown",
   "metadata": {},
   "source": [
    "## Inspect the data and remove the cities where the humidity > 100%.\n",
    "----\n",
    "Skip this step if there are no cities that have humidity > 100%. "
   ]
  },
  {
   "cell_type": "code",
   "execution_count": null,
   "metadata": {},
   "outputs": [],
   "source": []
  },
  {
   "cell_type": "code",
   "execution_count": 9,
   "metadata": {},
   "outputs": [],
   "source": [
    "#  Get the indices of cities that have humidity over 100%.\n"
   ]
  },
  {
   "cell_type": "code",
   "execution_count": 10,
   "metadata": {},
   "outputs": [],
   "source": [
    "# Make a new DataFrame equal to the city data to drop all humidity outliers by index.\n",
    "# Passing \"inplace=False\" will make a copy of the city_data DataFrame, which we call \"clean_city_data\".\n"
   ]
  },
  {
   "cell_type": "code",
   "execution_count": null,
   "metadata": {},
   "outputs": [],
   "source": [
    "\n"
   ]
  },
  {
   "cell_type": "markdown",
   "metadata": {},
   "source": [
    "## Plotting the Data\n",
    "* Use proper labeling of the plots using plot titles (including date of analysis) and axes labels.\n",
    "* Save the plotted figures as .pngs."
   ]
  },
  {
   "cell_type": "markdown",
   "metadata": {},
   "source": [
    "## Latitude vs. Temperature Plot"
   ]
  },
  {
   "cell_type": "code",
   "execution_count": 11,
   "metadata": {
    "scrolled": true
   },
   "outputs": [
    {
     "data": {
      "image/png": "[encoded data removed]",
      "text/plain": [
       "<Figure size 432x288 with 1 Axes>"
      ]
     },
     "metadata": {
      "needs_background": "light"
     },
     "output_type": "display_data"
    }
   ],
   "source": [
    "#Build SCatter plot for Latitude vs Temperature\n",
    "scatlat = weather_data[\"Latitude\"]\n",
    "scattemp = weather_data[\"Max Temp\"]\n",
    "\n",
    "plt.scatter(scatlat,scattemp)\n",
    "plt.title('City Latitude vs. Max Temperature')\n",
    "plt.xlabel('Latitude')\n",
    "plt.ylabel('Max Temperature (F)')\n",
    "plt.savefig('scatplotlatitudemaxtemp')\n",
    "plt.show()"
   ]
  },
  {
   "cell_type": "markdown",
   "metadata": {},
   "source": [
    "## Latitude vs. Humidity Plot"
   ]
  },
  {
   "cell_type": "code",
   "execution_count": 12,
   "metadata": {},
   "outputs": [
    {
     "data": {
      "image/png": "[encoded data removed]",
      "text/plain": [
       "<Figure size 432x288 with 1 Axes>"
      ]
     },
     "metadata": {
      "needs_background": "light"
     },
     "output_type": "display_data"
    }
   ],
   "source": [
    "# Build scatter plot for Laatitude vs Humidity\n",
    "scathum = weather_data[\"Humidity\"]\n",
    "\n",
    "plt.scatter(scatlat,scathum)\n",
    "plt.title('City Latitude vs. Humidity')\n",
    "plt.xlabel('Latitude')\n",
    "plt.ylabel('Humidity (%)')\n",
    "plt.savefig('scatplotlatitudehumidity')\n",
    "plt.show()"
   ]
  },
  {
   "cell_type": "markdown",
   "metadata": {},
   "source": [
    "## Latitude vs. Cloudiness Plot"
   ]
  },
  {
   "cell_type": "code",
   "execution_count": 13,
   "metadata": {},
   "outputs": [
    {
     "data": {
      "image/png": "[encoded data removed]",
      "text/plain": [
       "<Figure size 432x288 with 1 Axes>"
      ]
     },
     "metadata": {
      "needs_background": "light"
     },
     "output_type": "display_data"
    }
   ],
   "source": [
    "#Build Scatter plot for Latitude vs Cloudiness\n",
    "scatcloud = weather_data[\"Cloudiness\"]\n",
    "\n",
    "plt.scatter(scatlat,scatcloud)\n",
    "plt.title('City Latitude vs. Cloudiness')\n",
    "plt.xlabel('Latitude')\n",
    "plt.ylabel('Cloudiness (%)')\n",
    "plt.savefig('scatplotlatitudecloudiness')\n",
    "plt.show()"
   ]
  },
  {
   "cell_type": "markdown",
   "metadata": {},
   "source": [
    "## Latitude vs. Wind Speed Plot"
   ]
  },
  {
   "cell_type": "code",
   "execution_count": 14,
   "metadata": {},
   "outputs": [
    {
     "data": {
      "image/png": "[encoded data removed]",
      "text/plain": [
       "<Figure size 432x288 with 1 Axes>"
      ]
     },
     "metadata": {
      "needs_background": "light"
     },
     "output_type": "display_data"
    }
   ],
   "source": [
    "# Build the scatter plots for latitude vs. wind speed\n",
    "scatwindsp = weather_data[\"Wind Speed\"]\n",
    "\n",
    "plt.scatter(scatlat,scatwindsp)\n",
    "plt.title('City Latitude vs. Wind Speed')\n",
    "plt.xlabel('Latitude')\n",
    "plt.ylabel('Wind Speed (mph)')\n",
    "plt.savefig('scatplotlatitudewindspeed')\n",
    "plt.show()"
   ]
  },
  {
   "cell_type": "markdown",
   "metadata": {},
   "source": [
    "## Linear Regression"
   ]
  },
  {
   "cell_type": "code",
   "execution_count": 15,
   "metadata": {},
   "outputs": [],
   "source": [
    "# Create a function to create Linear Regression plots\n",
    "def plot_linear_regression(x_values, y_values, title, text_coordinates):\n",
    "    (slope, intercept, rvalue, pvalue, stderr) = linregress(x_values, y_values)\n",
    "    regress_values = x_values * slope + intercept\n",
    "    line_eq = \"y = \" + str(round(slope,2)) + \"x + \" + str(round(intercept,2))\n",
    "    \n",
    "    plt.scatter(x_values,y_values)\n",
    "    plt.plot(x_values,regress_values,\"r-\")\n",
    "    plt.annotate(line_eq,text_coordinates,fontsize=14,color=\"red\")\n",
    "    plt.xlabel(\"Latitude\")\n",
    "    plt.ylabel(title)\n",
    "    print(f\"The r-squared is: {rvalue}\")\n",
    "    plt.show()"
   ]
  },
  {
   "cell_type": "code",
   "execution_count": 16,
   "metadata": {},
   "outputs": [
    {
     "data": {
      "text/html": [
       "<div>\n",
       "<style scoped>\n",
       "    .dataframe tbody tr th:only-of-type {\n",
       "        vertical-align: middle;\n",
       "    }\n",
       "\n",
       "    .dataframe tbody tr th {\n",
       "        vertical-align: top;\n",
       "    }\n",
       "\n",
       "    .dataframe thead th {\n",
       "        text-align: right;\n",
       "    }\n",
       "</style>\n",
       "<table border=\"1\" class=\"dataframe\">\n",
       "  <thead>\n",
       "    <tr style=\"text-align: right;\">\n",
       "      <th></th>\n",
       "      <th>City</th>\n",
       "      <th>Latitude</th>\n",
       "      <th>Longitude</th>\n",
       "      <th>Max Temp</th>\n",
       "      <th>Humidity</th>\n",
       "      <th>Cloudiness</th>\n",
       "      <th>Wind Speed</th>\n",
       "      <th>Country</th>\n",
       "      <th>Date</th>\n",
       "    </tr>\n",
       "  </thead>\n",
       "  <tbody>\n",
       "    <tr>\n",
       "      <th>1</th>\n",
       "      <td>Tezu</td>\n",
       "      <td>27.9167</td>\n",
       "      <td>96.1667</td>\n",
       "      <td>68.00</td>\n",
       "      <td>79</td>\n",
       "      <td>87</td>\n",
       "      <td>4.72</td>\n",
       "      <td>IN</td>\n",
       "      <td>1650823200</td>\n",
       "    </tr>\n",
       "    <tr>\n",
       "      <th>6</th>\n",
       "      <td>Albany</td>\n",
       "      <td>42.6001</td>\n",
       "      <td>-73.9662</td>\n",
       "      <td>64.04</td>\n",
       "      <td>34</td>\n",
       "      <td>91</td>\n",
       "      <td>8.61</td>\n",
       "      <td>US</td>\n",
       "      <td>1650823200</td>\n",
       "    </tr>\n",
       "    <tr>\n",
       "      <th>7</th>\n",
       "      <td>Saint-Augustin</td>\n",
       "      <td>51.2260</td>\n",
       "      <td>-58.6502</td>\n",
       "      <td>38.89</td>\n",
       "      <td>84</td>\n",
       "      <td>100</td>\n",
       "      <td>19.48</td>\n",
       "      <td>CA</td>\n",
       "      <td>1650823200</td>\n",
       "    </tr>\n",
       "    <tr>\n",
       "      <th>8</th>\n",
       "      <td>Longyearbyen</td>\n",
       "      <td>78.2186</td>\n",
       "      <td>15.6401</td>\n",
       "      <td>12.04</td>\n",
       "      <td>57</td>\n",
       "      <td>20</td>\n",
       "      <td>3.36</td>\n",
       "      <td>SJ</td>\n",
       "      <td>1650823200</td>\n",
       "    </tr>\n",
       "    <tr>\n",
       "      <th>9</th>\n",
       "      <td>Killam</td>\n",
       "      <td>52.7834</td>\n",
       "      <td>-111.8518</td>\n",
       "      <td>53.55</td>\n",
       "      <td>47</td>\n",
       "      <td>15</td>\n",
       "      <td>5.55</td>\n",
       "      <td>CA</td>\n",
       "      <td>1650823200</td>\n",
       "    </tr>\n",
       "  </tbody>\n",
       "</table>\n",
       "</div>"
      ],
      "text/plain": [
       "             City  Latitude  Longitude  Max Temp  Humidity  Cloudiness  \\\n",
       "1            Tezu   27.9167    96.1667     68.00        79          87   \n",
       "6          Albany   42.6001   -73.9662     64.04        34          91   \n",
       "7  Saint-Augustin   51.2260   -58.6502     38.89        84         100   \n",
       "8    Longyearbyen   78.2186    15.6401     12.04        57          20   \n",
       "9          Killam   52.7834  -111.8518     53.55        47          15   \n",
       "\n",
       "   Wind Speed Country        Date  \n",
       "1        4.72      IN  1650823200  \n",
       "6        8.61      US  1650823200  \n",
       "7       19.48      CA  1650823200  \n",
       "8        3.36      SJ  1650823200  \n",
       "9        5.55      CA  1650823200  "
      ]
     },
     "execution_count": 16,
     "metadata": {},
     "output_type": "execute_result"
    }
   ],
   "source": [
    "# Create Dataframe for Northern and Southern Hemisphere\n",
    "northlat_df = weather_data.loc[weather_data[\"Latitude\"] >= 0,:]\n",
    "southlat_df = weather_data.loc[weather_data[\"Latitude\"] < 0,:]\n",
    "\n",
    "northlat_df.head()"
   ]
  },
  {
   "cell_type": "markdown",
   "metadata": {},
   "source": [
    "####  Northern Hemisphere - Max Temp vs. Latitude Linear Regression"
   ]
  },
  {
   "cell_type": "code",
   "execution_count": 17,
   "metadata": {},
   "outputs": [
    {
     "name": "stdout",
     "output_type": "stream",
     "text": [
      "The r-squared is: -0.8779041965601422\n"
     ]
    },
    {
     "data": {
      "image/png": "[encoded data removed]",
      "text/plain": [
       "<Figure size 432x288 with 1 Axes>"
      ]
     },
     "metadata": {
      "needs_background": "light"
     },
     "output_type": "display_data"
    },
    {
     "data": {
      "text/plain": [
       "<Figure size 432x288 with 0 Axes>"
      ]
     },
     "metadata": {},
     "output_type": "display_data"
    }
   ],
   "source": [
    "x_values = northlat_df[\"Latitude\"]\n",
    "y_values = northlat_df[\"Max Temp\"]\n",
    "plot_linear_regression(x_values,y_values,'Max Temp',(6,30))\n",
    "\n",
    "plt.savefig('northerntemplat')"
   ]
  },
  {
   "cell_type": "markdown",
   "metadata": {},
   "source": [
    "####  Southern Hemisphere - Max Temp vs. Latitude Linear Regression"
   ]
  },
  {
   "cell_type": "code",
   "execution_count": 18,
   "metadata": {},
   "outputs": [
    {
     "name": "stdout",
     "output_type": "stream",
     "text": [
      "The r-squared is: 0.7076925746694039\n"
     ]
    },
    {
     "data": {
      "image/png": "[encoded data removed]",
      "text/plain": [
       "<Figure size 432x288 with 1 Axes>"
      ]
     },
     "metadata": {
      "needs_background": "light"
     },
     "output_type": "display_data"
    },
    {
     "data": {
      "text/plain": [
       "<Figure size 432x288 with 0 Axes>"
      ]
     },
     "metadata": {},
     "output_type": "display_data"
    }
   ],
   "source": [
    "x_values = southlat_df[\"Latitude\"]\n",
    "y_values = southlat_df[\"Max Temp\"]\n",
    "plot_linear_regression(x_values,y_values,'Max Temp',(6,30))\n",
    "\n",
    "plt.savefig('southerntemplat')"
   ]
  },
  {
   "cell_type": "markdown",
   "metadata": {},
   "source": [
    "####  Northern Hemisphere - Humidity (%) vs. Latitude Linear Regression"
   ]
  },
  {
   "cell_type": "code",
   "execution_count": 19,
   "metadata": {},
   "outputs": [
    {
     "name": "stdout",
     "output_type": "stream",
     "text": [
      "The r-squared is: 0.3187271212955083\n"
     ]
    },
    {
     "data": {
      "image/png": "[encoded data removed]",
      "text/plain": [
       "<Figure size 432x288 with 1 Axes>"
      ]
     },
     "metadata": {
      "needs_background": "light"
     },
     "output_type": "display_data"
    },
    {
     "data": {
      "text/plain": [
       "<Figure size 432x288 with 0 Axes>"
      ]
     },
     "metadata": {},
     "output_type": "display_data"
    }
   ],
   "source": [
    "x_values = northlat_df[\"Latitude\"]\n",
    "y_values = northlat_df[\"Humidity\"]\n",
    "plot_linear_regression(x_values,y_values,'Humidity',(6,30))\n",
    "\n",
    "plt.savefig('northernhumlat')"
   ]
  },
  {
   "cell_type": "markdown",
   "metadata": {},
   "source": [
    "####  Southern Hemisphere - Humidity (%) vs. Latitude Linear Regression"
   ]
  },
  {
   "cell_type": "code",
   "execution_count": 20,
   "metadata": {},
   "outputs": [
    {
     "name": "stdout",
     "output_type": "stream",
     "text": [
      "The r-squared is: 0.09215362569258338\n"
     ]
    },
    {
     "data": {
      "image/png": "[encoded data removed]",
      "text/plain": [
       "<Figure size 432x288 with 1 Axes>"
      ]
     },
     "metadata": {
      "needs_background": "light"
     },
     "output_type": "display_data"
    },
    {
     "data": {
      "text/plain": [
       "<Figure size 432x288 with 0 Axes>"
      ]
     },
     "metadata": {},
     "output_type": "display_data"
    }
   ],
   "source": [
    "x_values = southlat_df[\"Latitude\"]\n",
    "y_values = southlat_df[\"Humidity\"]\n",
    "plot_linear_regression(x_values,y_values,'Humidity',(6,30))\n",
    "\n",
    "plt.savefig('southernhumlat')"
   ]
  },
  {
   "cell_type": "markdown",
   "metadata": {},
   "source": [
    "####  Northern Hemisphere - Cloudiness (%) vs. Latitude Linear Regression"
   ]
  },
  {
   "cell_type": "code",
   "execution_count": 21,
   "metadata": {},
   "outputs": [
    {
     "name": "stdout",
     "output_type": "stream",
     "text": [
      "The r-squared is: 0.17790485328566238\n"
     ]
    },
    {
     "data": {
      "image/png": "[encoded data removed]",
      "text/plain": [
       "<Figure size 432x288 with 1 Axes>"
      ]
     },
     "metadata": {
      "needs_background": "light"
     },
     "output_type": "display_data"
    },
    {
     "data": {
      "text/plain": [
       "<Figure size 432x288 with 0 Axes>"
      ]
     },
     "metadata": {},
     "output_type": "display_data"
    }
   ],
   "source": [
    "x_values = northlat_df[\"Latitude\"]\n",
    "y_values = northlat_df[\"Cloudiness\"]\n",
    "plot_linear_regression(x_values,y_values,'Cloudiness',(6,30))\n",
    "\n",
    "plt.savefig('northerncloudlat')"
   ]
  },
  {
   "cell_type": "markdown",
   "metadata": {},
   "source": [
    "####  Southern Hemisphere - Cloudiness (%) vs. Latitude Linear Regression"
   ]
  },
  {
   "cell_type": "code",
   "execution_count": 22,
   "metadata": {},
   "outputs": [
    {
     "name": "stdout",
     "output_type": "stream",
     "text": [
      "The r-squared is: 0.10214803470015459\n"
     ]
    },
    {
     "data": {
      "image/png": "[encoded data removed]",
      "text/plain": [
       "<Figure size 432x288 with 1 Axes>"
      ]
     },
     "metadata": {
      "needs_background": "light"
     },
     "output_type": "display_data"
    },
    {
     "data": {
      "text/plain": [
       "<Figure size 432x288 with 0 Axes>"
      ]
     },
     "metadata": {},
     "output_type": "display_data"
    }
   ],
   "source": [
    "x_values = southlat_df[\"Latitude\"]\n",
    "y_values = southlat_df[\"Cloudiness\"]\n",
    "plot_linear_regression(x_values,y_values,'Cloudiness',(6,30))\n",
    "\n",
    "plt.savefig('southerncloudlat')"
   ]
  },
  {
   "cell_type": "markdown",
   "metadata": {},
   "source": [
    "####  Northern Hemisphere - Wind Speed (mph) vs. Latitude Linear Regression"
   ]
  },
  {
   "cell_type": "code",
   "execution_count": 23,
   "metadata": {},
   "outputs": [
    {
     "name": "stdout",
     "output_type": "stream",
     "text": [
      "The r-squared is: -0.029313153284591612\n"
     ]
    },
    {
     "data": {
      "image/png": "[encoded data removed]",
      "text/plain": [
       "<Figure size 432x288 with 1 Axes>"
      ]
     },
     "metadata": {
      "needs_background": "light"
     },
     "output_type": "display_data"
    },
    {
     "data": {
      "text/plain": [
       "<Figure size 432x288 with 0 Axes>"
      ]
     },
     "metadata": {},
     "output_type": "display_data"
    }
   ],
   "source": [
    "x_values = northlat_df[\"Latitude\"]\n",
    "y_values = northlat_df[\"Wind Speed\"]\n",
    "plot_linear_regression(x_values,y_values,'Wind Speed',(6,30))\n",
    "\n",
    "plt.savefig('northernwindlat')"
   ]
  },
  {
   "cell_type": "markdown",
   "metadata": {},
   "source": [
    "####  Southern Hemisphere - Wind Speed (mph) vs. Latitude Linear Regression"
   ]
  },
  {
   "cell_type": "code",
   "execution_count": 24,
   "metadata": {},
   "outputs": [
    {
     "name": "stdout",
     "output_type": "stream",
     "text": [
      "The r-squared is: -0.30737633103562223\n"
     ]
    },
    {
     "data": {
      "image/png": "[encoded data removed]",
      "text/plain": [
       "<Figure size 432x288 with 1 Axes>"
      ]
     },
     "metadata": {
      "needs_background": "light"
     },
     "output_type": "display_data"
    },
    {
     "data": {
      "text/plain": [
       "<Figure size 432x288 with 0 Axes>"
      ]
     },
     "metadata": {},
     "output_type": "display_data"
    }
   ],
   "source": [
    "x_values = southlat_df[\"Latitude\"]\n",
    "y_values = southlat_df[\"Wind Speed\"]\n",
    "plot_linear_regression(x_values,y_values,'Wind Speed',(6,30))\n",
    "\n",
    "plt.savefig('southernwindlat')"
   ]
  },
  {
   "cell_type": "code",
   "execution_count": null,
   "metadata": {},
   "outputs": [],
   "source": []
  }
 ],
 "metadata": {
  "anaconda-cloud": {},
  "kernel_info": {
   "name": "python3"
  },
  "kernelspec": {
   "display_name": "Python 3 (ipykernel)",
   "language": "python",
   "name": "python3"
  },
  "language_info": {
   "codemirror_mode": {
    "name": "ipython",
    "version": 3
   },
   "file_extension": ".py",
   "mimetype": "text/x-python",
   "name": "python",
   "nbconvert_exporter": "python",
   "pygments_lexer": "ipython3",
   "version": "3.9.7"
  },
  "latex_envs": {
   "LaTeX_envs_menu_present": true,
   "autoclose": false,
   "autocomplete": true,
   "bibliofile": "biblio.bib",
   "cite_by": "apalike",
   "current_citInitial": 1,
   "eqLabelWithNumbers": true,
   "eqNumInitial": 1,
   "hotkeys": {
    "equation": "Ctrl-E",
    "itemize": "Ctrl-I"
   },
   "labels_anchors": false,
   "latex_user_defs": false,
   "report_style_numbering": false,
   "user_envs_cfg": false
  },
  "nteract": {
   "version": "0.12.3"
  }
 },
 "nbformat": 4,
 "nbformat_minor": 2
}
